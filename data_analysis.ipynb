{
 "cells": [
  {
   "cell_type": "code",
   "execution_count": 1,
   "metadata": {},
   "outputs": [
    {
     "name": "stdout",
     "output_type": "stream",
     "text": [
      "data/processed/to_girl_words.txt: 2583 lines\n",
      "data/processed/from_girl_words.txt: 3151 lines\n",
      "data/processed/to_guy_words.txt: 2563 lines\n",
      "data/processed/from_guy_words.txt: 3824 lines\n",
      "\n",
      "Total texts sent: 5146\n",
      "Total texts received: 6975\n",
      "Total texts: 12121\n"
     ]
    }
   ],
   "source": [
    "toguyfile = \"data/processed/to_guy_words.txt\"\n",
    "togirlfile = \"data/processed/to_girl_words.txt\"\n",
    "fromguyfile = \"data/processed/from_guy_words.txt\"\n",
    "fromgirlfile = \"data/processed/from_girl_words.txt\"\n",
    "\n",
    "# ---- Count lines in each file\n",
    "files = [togirlfile, fromgirlfile, toguyfile, fromguyfile]\n",
    "nlines = []\n",
    "for file in files:\n",
    "    me = open(file, \"r\", encoding=\"utf16\")\n",
    "    lines = me.readlines()\n",
    "    print(file + \": \" + str(len(lines)) + \" lines\")\n",
    "    nlines.append(len(lines))\n",
    "    me.close()\n",
    "print(\"\\nTotal texts sent: %i\" % (nlines[0] + nlines[2]))\n",
    "print(\"Total texts received: %i\" % (nlines[1] + nlines[3]))\n",
    "print(\"Total texts: %i\" % (nlines[0] + nlines[1] + nlines[2] + nlines[3]))"
   ]
  },
  {
   "cell_type": "code",
   "execution_count": 2,
   "metadata": {},
   "outputs": [
    {
     "name": "stdout",
     "output_type": "stream",
     "text": [
      "data/processed/to_girl_words.txt: 16991 words\n",
      "data/processed/from_girl_words.txt: 14054 words\n",
      "data/processed/to_guy_words.txt: 14621 words\n",
      "data/processed/from_guy_words.txt: 19277 words\n",
      "\n",
      "Total words sent: 31612\n",
      "Total words received: 33331\n",
      "Total words: 64943\n"
     ]
    }
   ],
   "source": [
    "# ---- Count words in each file, average words per text, count \n",
    "words_sent = []\n",
    "avg_text = []\n",
    "dicts = []\n",
    "for file in files:\n",
    "    w = 0\n",
    "    text_len = []\n",
    "    d = {}\n",
    "    with open(file, \"r\", encoding=\"utf16\") as doc:\n",
    "        for line in doc:\n",
    "            lw = 0\n",
    "            for word in line.split():\n",
    "                w += 1\n",
    "                lw += 1\n",
    "                eword = word.replace(\"'\",\"\").lower()\n",
    "                if eword in d:\n",
    "                    d[eword] = d[eword] + 1\n",
    "                else:\n",
    "                    d[eword] = 1\n",
    "            text_len.append(lw)\n",
    "    print(file + \": \" + str(w) + \" words\")\n",
    "    words_sent.append(w)\n",
    "    avg_text.append(sum(text_len)/len(text_len))\n",
    "    dicts.append(d)\n",
    "    doc.close()\n",
    "\n",
    "print(\"\\nTotal words sent: %i\" % (words_sent[0] + words_sent[2]))\n",
    "print(\"Total words received: %i\" % (words_sent[1] + words_sent[3]))\n",
    "print(\"Total words: %i\" % (words_sent[0] + words_sent[1] + words_sent[2] + words_sent[3]))"
   ]
  },
  {
   "cell_type": "code",
   "execution_count": 3,
   "metadata": {},
   "outputs": [
    {
     "name": "stdout",
     "output_type": "stream",
     "text": [
      "For every word a girl sent me, I sent 1.21 words back\n",
      "For every word a guy sent me, I sent 0.76 words back\n"
     ]
    }
   ],
   "source": [
    "print(\"For every word a girl sent me, I sent %.2f words back\" % (words_sent[0]/words_sent[1]))\n",
    "print(\"For every word a guy sent me, I sent %.2f words back\" % (words_sent[2]/words_sent[3]))"
   ]
  },
  {
   "cell_type": "code",
   "execution_count": 4,
   "metadata": {},
   "outputs": [
    {
     "name": "stdout",
     "output_type": "stream",
     "text": [
      "Average text length of a girl: 4.46 words\n",
      "Average text length of a guy: 5.04 words\n",
      "My average text length to a girl: 6.58 words\n",
      "My average text length to a guy: 5.70 words\n"
     ]
    }
   ],
   "source": [
    "print(\"Average text length of a girl: %.2f words\" % avg_text[1])\n",
    "print(\"Average text length of a guy: %.2f words\" % avg_text[3])\n",
    "print(\"My average text length to a girl: %.2f words\" % avg_text[0])\n",
    "print(\"My average text length to a guy: %.2f words\" % avg_text[2])"
   ]
  },
  {
   "cell_type": "code",
   "execution_count": 5,
   "metadata": {},
   "outputs": [
    {
     "name": "stdout",
     "output_type": "stream",
     "text": [
      "My vocab to guys: 2759 unique words\n",
      "My vocab to girls: 3102 unique words\n",
      "Guys vocab: 3864 unique words\n",
      "Girls vocab: 2971 unique words\n",
      "\n",
      "Overall Vocab: 7825 unique words\n"
     ]
    }
   ],
   "source": [
    "print(\"My vocab to guys: %i unique words\" % len(dicts[2]))\n",
    "print(\"My vocab to girls: %i unique words\" % len(dicts[0]))\n",
    "print(\"Guys vocab: %i unique words\" % len(dicts[3]))\n",
    "print(\"Girls vocab: %i unique words\" % len(dicts[1]))\n",
    "\n",
    "combined = dicts[0]\n",
    "combined.update(dicts[1])\n",
    "combined.update(dicts[2])\n",
    "combined.update(dicts[3])\n",
    "print(\"\\nOverall Vocab: %i unique words\" % len(combined))"
   ]
  },
  {
   "cell_type": "code",
   "execution_count": 6,
   "metadata": {},
   "outputs": [
    {
     "name": "stdout",
     "output_type": "stream",
     "text": [
      "data/processed/to_girl_words.txt redacted: 14470 words\n",
      "data/processed/from_girl_words.txt redacted: 12042 words\n",
      "data/processed/to_guy_words.txt redacted: 12627 words\n",
      "data/processed/from_guy_words.txt redacted: 16590 words\n"
     ]
    }
   ],
   "source": [
    "# Most common particles, prepositions, conjunctions\n",
    "common = [\"a\", \"and\", \"is\", \"it\", \"of\", \"or\", \"the\", \"to\", \"was\", \"if\", \"that\", \"have\", \"its\"]\n",
    "\n",
    "for file in files:\n",
    "    f = open(file[:len(file)-4] + \"_redacted.txt\", \"w\", encoding=\"utf16\")\n",
    "    i = 0\n",
    "    with open(file, \"r\", encoding=\"utf16\") as doc:\n",
    "        for line in doc:\n",
    "            for word in line.split():\n",
    "                if not(word.replace(\"'\",\"\").lower() in common):\n",
    "                    f.write(word.replace(\"'\",\"\").lower() + \" \")\n",
    "                    i += 1\n",
    "    print(file + \" redacted: \" + str(i) + \" words\")\n",
    "    doc.close()"
   ]
  },
  {
   "cell_type": "code",
   "execution_count": 7,
   "metadata": {},
   "outputs": [],
   "source": [
    "def phrase_counter(phrase):\n",
    "    phrase_count = []\n",
    "    for file in files:\n",
    "        count = 0\n",
    "        with open(file, \"r\", encoding=\"utf16\") as doc:\n",
    "            for line in doc:\n",
    "                if phrase in line.replace(\"'\",\"\").lower():\n",
    "                    count += 1\n",
    "        phrase_count.append(count)\n",
    "        doc.close()\n",
    "    return phrase_count"
   ]
  },
  {
   "cell_type": "code",
   "execution_count": 8,
   "metadata": {},
   "outputs": [
    {
     "name": "stdout",
     "output_type": "stream",
     "text": [
      "\n",
      "Girls use emojis in 9.5 out of every 1000 texts\n",
      "Guys use emojis in 7.1 out of every every 1000 texts\n",
      "I use emojis to girls in 46.1 out of every 1000 texts\n",
      "I use emojis to guys in 33.9 out of every 1000 texts\n"
     ]
    }
   ],
   "source": [
    "# ---- Emojis\n",
    "from emoji import UNICODE_EMOJI\n",
    "emoji_count = []\n",
    "emoji_dict = []\n",
    "for file in files:\n",
    "    count = 0\n",
    "    d = {}\n",
    "    with open(file, \"r\", encoding=\"utf16\") as doc:\n",
    "        for line in doc:\n",
    "            for emoji in UNICODE_EMOJI:\n",
    "                if emoji in line:\n",
    "                    count += 1\n",
    "                    if emoji in d:\n",
    "                        d[emoji] = d[emoji] + 1\n",
    "                    else:\n",
    "                        d[emoji] = 1\n",
    "                    break\n",
    "    emoji_count.append(count)\n",
    "    emoji_dict.append(d)\n",
    "    doc.close()\n",
    "print(\"\\nGirls use emojis in %.1f out of every 1000 texts\" % (emoji_count[1]/nlines[1]*1000))\n",
    "print(\"Guys use emojis in %.1f out of every every 1000 texts\" % (emoji_count[3]/nlines[3]*1000))\n",
    "print(\"I use emojis to girls in %.1f out of every 1000 texts\" % (emoji_count[0]/nlines[0]*1000))\n",
    "print(\"I use emojis to guys in %.1f out of every 1000 texts\" % (emoji_count[2]/nlines[2]*1000))"
   ]
  },
  {
   "cell_type": "code",
   "execution_count": 9,
   "metadata": {},
   "outputs": [
    {
     "name": "stdout",
     "output_type": "stream",
     "text": [
      "Most common emojis for guys: 😤, 😢, ❤, 😘, 🥺, 👌, ♂, 😭, 😍, 💪, \n",
      "Most common emojis for girls: 😁, 😬, 😎, 🥺, 😂, 🤭, 🤔, 🤩, 😩, 🙄, \n",
      "Most common emojis I use to guys: 👍, 😘, 😭, 👌, 😂, 🤔, 😉, 😥, 😍, 😢, \n",
      "Most common emojis I use to girls: 👍, 😭, 🤔, 👌, 😬, 😉, 😂, 🙁, 👏, 😡, \n"
     ]
    }
   ],
   "source": [
    "# ---- Most common emojis\n",
    "semojis = []\n",
    "mfremojis = []\n",
    "for d in emoji_dict:\n",
    "    semojis.append(sorted(d.items(), key=lambda item: item[1]))\n",
    "\n",
    "for freq in semojis:\n",
    "    out = \"\"\n",
    "    for i in range(-10, 0):\n",
    "        out = freq[i][0] + \", \" + out\n",
    "    mfremojis.append(out)\n",
    "    \n",
    "print(\"Most common emojis for guys: \" + mfremojis[3])\n",
    "print(\"Most common emojis for girls: \" + mfremojis[1])\n",
    "print(\"Most common emojis I use to guys: \" + mfremojis[2])\n",
    "print(\"Most common emojis I use to girls: \" + mfremojis[0])"
   ]
  },
  {
   "cell_type": "code",
   "execution_count": 20,
   "metadata": {},
   "outputs": [
    {
     "name": "stdout",
     "output_type": "stream",
     "text": [
      "Korean usage for guys: 0.03 times every 100 texts\n",
      "Korean usage for girls: 1.30 times every 100 texts\n",
      "Korean usage I use to guys: 0.38 times every 100 texts\n",
      "Korean usage I use to girls: 0.92 times every 100 texts\n"
     ]
    }
   ],
   "source": [
    "# ---- Korean usage\n",
    "import re\n",
    "\n",
    "def is_hangul(string):\n",
    "    return any([re.search(u'[\\u3131-\\ucb4c]', string)])\n",
    "\n",
    "korean = []\n",
    "for file in files:\n",
    "    count = 0\n",
    "    with open(file, \"r\", encoding=\"utf16\") as doc:\n",
    "        for line in doc:\n",
    "            if (is_hangul(line)):\n",
    "                count += 1\n",
    "    korean.append(count)\n",
    "    doc.close()\n",
    "\n",
    "print(\"Korean usage for guys: %.2f times every 100 texts\" % (korean[3]/nlines[1]*100))\n",
    "print(\"Korean usage for girls: %.2f times every 100 texts\" % (korean[1]/nlines[1]*100))\n",
    "print(\"Korean usage I use to guys: %.2f times every 100 texts\" % (korean[2]/nlines[1]*100))\n",
    "print(\"Korean usage I use to girls: %.2f times every 100 texts\" % (korean[0]/nlines[1]*100))"
   ]
  },
  {
   "cell_type": "code",
   "execution_count": 11,
   "metadata": {},
   "outputs": [
    {
     "name": "stdout",
     "output_type": "stream",
     "text": [
      "Girls use \"like\" 15.1 times every 1000 words\n",
      "Guys use \"like\" 11.9 times every 1000 words\n",
      "I use \"like\" to girls 13.5 times every 1000 words\n",
      "I use \"like\" to guys 11.4 times every 1000 words\n",
      "\n",
      "Girls use \"idk\" 26.3 times every 10000 words\n",
      "Guys use \"idk\" 9.3 times every 10000 words\n",
      "I use \"idk\" to girls 10.6 times every 10000 words\n",
      "I use \"idk\" to guys 8.2 times every 10000 words\n",
      "\n",
      "Girls use \"I mean\" 9.3 times every 10000 words\n",
      "Guys use \"I mean\" 5.2 times every 10000 words\n",
      "I use \"I mean\" to girls 18.8 times every 10000 words\n",
      "I use \"I mean\" to guys 15.0 times every 10000 words\n",
      "\n",
      "Girls use \"could\" 7.1 times every 10000 words\n",
      "Guys use \"could\" 13.0 times every 10000 words\n",
      "I use \"could\" to girls 14.7 times every 10000 words\n",
      "I use \"could\" to guys 19.2 times every 10000 words\n"
     ]
    }
   ],
   "source": [
    "# ---- Hedges\n",
    "print(\"Girls use \\\"like\\\" %.1f times every 1000 words\" % (dicts[1][\"like\"]/words_sent[1]*1000))\n",
    "print(\"Guys use \\\"like\\\" %.1f times every 1000 words\" % (dicts[3][\"like\"]/words_sent[3]*1000))\n",
    "print(\"I use \\\"like\\\" to girls %.1f times every 1000 words\" % (dicts[0][\"like\"]/words_sent[0]*1000))\n",
    "print(\"I use \\\"like\\\" to guys %.1f times every 1000 words\" % (dicts[2][\"like\"]/words_sent[2]*1000))\n",
    "\n",
    "print(\"\\nGirls use \\\"idk\\\" %.1f times every 10000 words\" % (dicts[1][\"idk\"]/words_sent[1]*10000))\n",
    "print(\"Guys use \\\"idk\\\" %.1f times every 10000 words\" % (dicts[3][\"idk\"]/words_sent[3]*10000))\n",
    "print(\"I use \\\"idk\\\" to girls %.1f times every 10000 words\" % (dicts[0][\"idk\"]/words_sent[0]*10000))\n",
    "print(\"I use \\\"idk\\\" to guys %.1f times every 10000 words\" % (dicts[2][\"idk\"]/words_sent[2]*10000))\n",
    "\n",
    "imean = phrase_counter(\"i mean\")\n",
    "print(\"\\nGirls use \\\"I mean\\\" %.1f times every 10000 words\" % (imean[1]/words_sent[1]*10000))\n",
    "print(\"Guys use \\\"I mean\\\" %.1f times every 10000 words\" % (imean[3]/words_sent[3]*10000))\n",
    "print(\"I use \\\"I mean\\\" to girls %.1f times every 10000 words\" % (imean[0]/words_sent[0]*10000))\n",
    "print(\"I use \\\"I mean\\\" to guys %.1f times every 10000 words\" % (imean[2]/words_sent[2]*10000))\n",
    "\n",
    "print(\"\\nGirls use \\\"could\\\" %.1f times every 10000 words\" % (dicts[1][\"could\"]/words_sent[1]*10000))\n",
    "print(\"Guys use \\\"could\\\" %.1f times every 10000 words\" % (dicts[3][\"could\"]/words_sent[3]*10000))\n",
    "print(\"I use \\\"could\\\" to girls %.1f times every 10000 words\" % (dicts[0][\"could\"]/words_sent[0]*10000))\n",
    "print(\"I use \\\"could\\\" to guys %.1f times every 10000 words\" % (dicts[2][\"could\"]/words_sent[2]*10000))"
   ]
  },
  {
   "cell_type": "code",
   "execution_count": 12,
   "metadata": {},
   "outputs": [
    {
     "name": "stdout",
     "output_type": "stream",
     "text": [
      "\n",
      "Girls use \"is it\" 9.3 times every 10000 words\n",
      "Guys use \"is it\" 2.1 times every 10000 words\n",
      "I use \"is it\" to girls 4.7 times every 10000 words\n",
      "I use \"is it\" to guys 3.4 times every 10000 words\n",
      "\n",
      "Girls use \"isnt it\" 0.0 times every 10000 words\n",
      "Guys use \"isnt it\" 1.0 times every 10000 words\n",
      "I use \"isnt it\" to girls 2.4 times every 10000 words\n",
      "I use \"isnt it\" to guys 1.4 times every 10000 words\n",
      "\n",
      "Girls use \"?\" 4.3 times every 10000 texts\n",
      "Guys use \"?\" 4.9 times every 10000 texts\n",
      "I use \"?\" to girls 5.7 times every 10000 texts\n",
      "I use \"?\" to guys 6.1 times every 10000 texts\n",
      "\n",
      "Girls use \"isnt he/she\" 0.0 times every 10000 words\n",
      "Guys use \"isnt he/she\" 0.5 times every 10000 words\n",
      "I use \"isnt he/she\" to girls 0.0 times every 10000 words\n",
      "I use \"isnt he/she\" to guys 0.0 times every 10000 words\n"
     ]
    }
   ],
   "source": [
    "# ---- Tag Questions\n",
    "isit = phrase_counter(\"is it\")\n",
    "print(\"\\nGirls use \\\"is it\\\" %.1f times every 10000 words\" % (isit[1]/words_sent[1]*10000))\n",
    "print(\"Guys use \\\"is it\\\" %.1f times every 10000 words\" % (isit[3]/words_sent[3]*10000))\n",
    "print(\"I use \\\"is it\\\" to girls %.1f times every 10000 words\" % (isit[0]/words_sent[0]*10000))\n",
    "print(\"I use \\\"is it\\\" to guys %.1f times every 10000 words\" % (isit[2]/words_sent[2]*10000))\n",
    "\n",
    "isntit = phrase_counter(\"isnt it\")\n",
    "print(\"\\nGirls use \\\"isnt it\\\" %.1f times every 10000 words\" % (isntit[1]/words_sent[1]*10000))\n",
    "print(\"Guys use \\\"isnt it\\\" %.1f times every 10000 words\" % (isntit[3]/words_sent[3]*10000))\n",
    "print(\"I use \\\"isnt it\\\" to girls %.1f times every 10000 words\" % (isntit[0]/words_sent[0]*10000))\n",
    "print(\"I use \\\"isnt it\\\" to guys %.1f times every 10000 words\" % (isntit[2]/words_sent[2]*10000))\n",
    "\n",
    "isit = phrase_counter(\"?\")\n",
    "print(\"\\nGirls use \\\"?\\\" %.1f times every 10000 texts\" % (isit[1]/nlines[1]*100))\n",
    "print(\"Guys use \\\"?\\\" %.1f times every 10000 texts\" % (isit[3]/nlines[3]*100))\n",
    "print(\"I use \\\"?\\\" to girls %.1f times every 10000 texts\" % (isit[0]/nlines[0]*100))\n",
    "print(\"I use \\\"?\\\" to guys %.1f times every 10000 texts\" % (isit[2]/nlines[2]*100))\n",
    "\n",
    "isnthe = phrase_counter(\"isnt he\")\n",
    "isntshe = phrase_counter(\"isnt she\")\n",
    "print(\"\\nGirls use \\\"isnt he/she\\\" %.1f times every 10000 words\" % ((isnthe[1]+isntshe[1])/words_sent[1]*10000))\n",
    "print(\"Guys use \\\"isnt he/she\\\" %.1f times every 10000 words\" % ((isnthe[3]+isntshe[3])/words_sent[3]*10000))\n",
    "print(\"I use \\\"isnt he/she\\\" to girls %.1f times every 10000 words\" % ((isnthe[0]+isntshe[0])/words_sent[0]*10000))\n",
    "print(\"I use \\\"isnt he/she\\\" to guys %.1f times every 10000 words\" % ((isnthe[2]+isntshe[2])/words_sent[2]*10000))"
   ]
  },
  {
   "cell_type": "code",
   "execution_count": 13,
   "metadata": {},
   "outputs": [
    {
     "name": "stdout",
     "output_type": "stream",
     "text": [
      "\n",
      "Girls use \"yeah\" 7.1 times every 10000 words\n",
      "Guys use \"yeah\" 28.0 times every 10000 words\n",
      "I use \"yeah\" to girls 31.8 times every 10000 words\n",
      "I use \"yeah\" to guys 62.9 times every 10000 words\n",
      "\n",
      "Girls use \"wow\" 17.1 times every 10000 words\n",
      "Guys use \"wow\" 4.7 times every 10000 words\n",
      "I use \"wow\" to girls 5.3 times every 10000 words\n",
      "I use \"wow\" to guys 10.3 times every 10000 words\n",
      "\n",
      "Girls use \"oh\" 45.5 times every 10000 words\n",
      "Guys use \"oh\" 23.3 times every 10000 words\n",
      "I use \"oh\" to girls 26.5 times every 10000 words\n",
      "I use \"oh\" to guys 39.0 times every 10000 words\n",
      "\n",
      "Girls use \"ok\" 16.4 times every 10000 words\n",
      "Guys use \"ok\" 72.6 times every 10000 words\n",
      "I use \"ok\" to girls 82.4 times every 10000 words\n",
      "I use \"ok\" to guys 65.0 times every 10000 words\n"
     ]
    }
   ],
   "source": [
    "# ---- Backchannels\n",
    "print(\"\\nGirls use \\\"yeah\\\" %.1f times every 10000 words\" % (dicts[1][\"yeah\"]/words_sent[1]*10000))\n",
    "print(\"Guys use \\\"yeah\\\" %.1f times every 10000 words\" % (dicts[3][\"yeah\"]/words_sent[3]*10000))\n",
    "print(\"I use \\\"yeah\\\" to girls %.1f times every 10000 words\" % (dicts[0][\"yeah\"]/words_sent[0]*10000))\n",
    "print(\"I use \\\"yeah\\\" to guys %.1f times every 10000 words\" % (dicts[2][\"yeah\"]/words_sent[2]*10000))\n",
    "\n",
    "print(\"\\nGirls use \\\"wow\\\" %.1f times every 10000 words\" % (dicts[1][\"wow\"]/words_sent[1]*10000))\n",
    "print(\"Guys use \\\"wow\\\" %.1f times every 10000 words\" % (dicts[3][\"wow\"]/words_sent[3]*10000))\n",
    "print(\"I use \\\"wow\\\" to girls %.1f times every 10000 words\" % (dicts[0][\"wow\"]/words_sent[0]*10000))\n",
    "print(\"I use \\\"wow\\\" to guys %.1f times every 10000 words\" % (dicts[2][\"wow\"]/words_sent[2]*10000))\n",
    "\n",
    "print(\"\\nGirls use \\\"oh\\\" %.1f times every 10000 words\" % (dicts[1][\"oh\"]/words_sent[1]*10000))\n",
    "print(\"Guys use \\\"oh\\\" %.1f times every 10000 words\" % (dicts[3][\"oh\"]/words_sent[3]*10000))\n",
    "print(\"I use \\\"oh\\\" to girls %.1f times every 10000 words\" % (dicts[0][\"oh\"]/words_sent[0]*10000))\n",
    "print(\"I use \\\"oh\\\" to guys %.1f times every 10000 words\" % (dicts[2][\"oh\"]/words_sent[2]*10000))\n",
    "\n",
    "print(\"\\nGirls use \\\"ok\\\" %.1f times every 10000 words\" % (dicts[1][\"ok\"]/words_sent[1]*10000))\n",
    "print(\"Guys use \\\"ok\\\" %.1f times every 10000 words\" % (dicts[3][\"ok\"]/words_sent[3]*10000))\n",
    "print(\"I use \\\"ok\\\" to girls %.1f times every 10000 words\" % (dicts[0][\"ok\"]/words_sent[0]*10000))\n",
    "print(\"I use \\\"ok\\\" to guys %.1f times every 10000 words\" % (dicts[2][\"ok\"]/words_sent[2]*10000))"
   ]
  },
  {
   "cell_type": "code",
   "execution_count": 14,
   "metadata": {},
   "outputs": [
    {
     "name": "stdout",
     "output_type": "stream",
     "text": [
      "\n",
      "Girls use \"bro\" 7.1 times every 10000 words\n",
      "Guys use \"bro\" 3.6 times every 10000 words\n",
      "I use \"bro\" to girls 4.1 times every 10000 words\n",
      "I use \"bro\" to guys 6.8 times every 10000 words\n",
      "\n",
      "Girls use \"dude\" 1.4 times every 10000 words\n",
      "Guys use \"dude\" 12.5 times every 10000 words\n",
      "I use \"dude\" to girls 14.1 times every 10000 words\n",
      "I use \"dude\" to guys 13.7 times every 10000 words\n",
      "\n",
      "Girls use \"bruh\" 5.7 times every 10000 words\n",
      "Guys use \"bruh\" 14.5 times every 10000 words\n",
      "I use \"bruh\" to girls 16.5 times every 10000 words\n",
      "I use \"bruh\" to guys 15.7 times every 10000 words\n",
      "\n",
      "Girls use \"fts\" 0.7 times every 10000 words\n",
      "Guys use \"fts\" 2.1 times every 10000 words\n",
      "I use \"fts\" to girls 2.4 times every 10000 words\n",
      "I use \"fts\" to guys 4.1 times every 10000 words\n",
      "\n",
      "Girls use \"aight\" 0 times every 10000 words\n",
      "Guys use \"aight\" 10.9 times every 10000 words\n",
      "I use \"aight\" to girls 12.4 times every 10000 words\n",
      "I use \"aight\" to guys 7.5 times every 10000 words\n",
      "\n",
      "Girls use \"bet\" 4.3 times every 10000 words\n",
      "Guys use \"bet\" 9.9 times every 10000 words\n",
      "I use \"bet\" to girls 11.2 times every 10000 words\n",
      "I use \"bet\" to guys 9.6 times every 10000 words\n",
      "\n",
      "Girls use \"facts\" 1.4 times every 10000 words\n",
      "Guys use \"facts\" 2.6 times every 10000 words\n",
      "I use \"facts\" to girls 2.9 times every 10000 words\n",
      "I use \"facts\" to guys 6.8 times every 10000 words\n"
     ]
    }
   ],
   "source": [
    "# ---- Slang\n",
    "print(\"\\nGirls use \\\"bro\\\" %.1f times every 10000 words\" % (dicts[1][\"bro\"]/words_sent[1]*10000))\n",
    "print(\"Guys use \\\"bro\\\" %.1f times every 10000 words\" % (dicts[3][\"bro\"]/words_sent[3]*10000))\n",
    "print(\"I use \\\"bro\\\" to girls %.1f times every 10000 words\" % (dicts[0][\"bro\"]/words_sent[0]*10000))\n",
    "print(\"I use \\\"bro\\\" to guys %.1f times every 10000 words\" % (dicts[2][\"bro\"]/words_sent[2]*10000))\n",
    "\n",
    "print(\"\\nGirls use \\\"dude\\\" %.1f times every 10000 words\" % (dicts[1][\"dude\"]/words_sent[1]*10000))\n",
    "print(\"Guys use \\\"dude\\\" %.1f times every 10000 words\" % (dicts[3][\"dude\"]/words_sent[3]*10000))\n",
    "print(\"I use \\\"dude\\\" to girls %.1f times every 10000 words\" % (dicts[0][\"dude\"]/words_sent[0]*10000))\n",
    "print(\"I use \\\"dude\\\" to guys %.1f times every 10000 words\" % (dicts[2][\"dude\"]/words_sent[2]*10000))\n",
    "\n",
    "print(\"\\nGirls use \\\"bruh\\\" %.1f times every 10000 words\" % (dicts[1][\"bruh\"]/words_sent[1]*10000))\n",
    "print(\"Guys use \\\"bruh\\\" %.1f times every 10000 words\" % (dicts[3][\"bruh\"]/words_sent[3]*10000))\n",
    "print(\"I use \\\"bruh\\\" to girls %.1f times every 10000 words\" % (dicts[0][\"bruh\"]/words_sent[0]*10000))\n",
    "print(\"I use \\\"bruh\\\" to guys %.1f times every 10000 words\" % (dicts[2][\"bruh\"]/words_sent[2]*10000))\n",
    "\n",
    "print(\"\\nGirls use \\\"fts\\\" %.1f times every 10000 words\" % (dicts[1][\"fts\"]/words_sent[1]*10000))\n",
    "print(\"Guys use \\\"fts\\\" %.1f times every 10000 words\" % (dicts[3][\"fts\"]/words_sent[3]*10000))\n",
    "print(\"I use \\\"fts\\\" to girls %.1f times every 10000 words\" % (dicts[0][\"fts\"]/words_sent[0]*10000))\n",
    "print(\"I use \\\"fts\\\" to guys %.1f times every 10000 words\" % (dicts[2][\"fts\"]/words_sent[2]*10000))\n",
    "\n",
    "print(\"\\nGirls use \\\"aight\\\" 0 times every 10000 words\")\n",
    "print(\"Guys use \\\"aight\\\" %.1f times every 10000 words\" % (dicts[3][\"aight\"]/words_sent[3]*10000))\n",
    "print(\"I use \\\"aight\\\" to girls %.1f times every 10000 words\" % (dicts[0][\"aight\"]/words_sent[0]*10000))\n",
    "print(\"I use \\\"aight\\\" to guys %.1f times every 10000 words\" % (dicts[2][\"aight\"]/words_sent[2]*10000))\n",
    "\n",
    "print(\"\\nGirls use \\\"bet\\\" %.1f times every 10000 words\" % (dicts[1][\"bet\"]/words_sent[1]*10000))\n",
    "print(\"Guys use \\\"bet\\\" %.1f times every 10000 words\" % (dicts[3][\"bet\"]/words_sent[3]*10000))\n",
    "print(\"I use \\\"bet\\\" to girls %.1f times every 10000 words\" % (dicts[0][\"bet\"]/words_sent[0]*10000))\n",
    "print(\"I use \\\"bet\\\" to guys %.1f times every 10000 words\" % (dicts[2][\"bet\"]/words_sent[2]*10000))\n",
    "\n",
    "print(\"\\nGirls use \\\"facts\\\" %.1f times every 10000 words\" % (dicts[1][\"facts\"]/words_sent[1]*10000))\n",
    "print(\"Guys use \\\"facts\\\" %.1f times every 10000 words\" % (dicts[3][\"facts\"]/words_sent[3]*10000))\n",
    "print(\"I use \\\"facts\\\" to girls %.1f times every 10000 words\" % (dicts[0][\"facts\"]/words_sent[0]*10000))\n",
    "print(\"I use \\\"facts\\\" to guys %.1f times every 10000 words\" % (dicts[2][\"facts\"]/words_sent[2]*10000))"
   ]
  },
  {
   "cell_type": "code",
   "execution_count": 15,
   "metadata": {},
   "outputs": [
    {
     "name": "stdout",
     "output_type": "stream",
     "text": [
      "\n",
      "Girls use \"girl\" 2.1 times every 10000 words\n",
      "Guys use \"girl\" 4.2 times every 10000 words\n",
      "I use \"girl\" to girls 4.7 times every 10000 words\n",
      "I use \"girl\" to guys 6.8 times every 10000 words\n",
      "\n",
      "Girls use \"she\" 14.9 times every 10000 words\n",
      "Guys use \"she\" 30.1 times every 10000 words\n",
      "I use \"she\" to girls 34.1 times every 10000 words\n",
      "I use \"she\" to guys 21.9 times every 10000 words\n",
      "\n",
      "Girls use \"boy\" 0.7 times every 10000 words\n",
      "Guys use \"boy\" 1.0 times every 10000 words\n",
      "I use \"boy\" to girls 1.2 times every 10000 words\n",
      "I use \"boy\" to guys 0.7 times every 10000 words\n",
      "\n",
      "Girls use \"he\" 34.9 times every 10000 words\n",
      "Guys use \"he\" 39.9 times every 10000 words\n",
      "I use \"he\" to girls 45.3 times every 10000 words\n",
      "I use \"he\" to guys 34.2 times every 10000 words\n"
     ]
    }
   ],
   "source": [
    "# ---- Boys and Girls\n",
    "print(\"\\nGirls use \\\"girl\\\" %.1f times every 10000 words\" % (dicts[1][\"girl\"]/words_sent[1]*10000))\n",
    "print(\"Guys use \\\"girl\\\" %.1f times every 10000 words\" % (dicts[3][\"girl\"]/words_sent[3]*10000))\n",
    "print(\"I use \\\"girl\\\" to girls %.1f times every 10000 words\" % (dicts[0][\"girl\"]/words_sent[0]*10000))\n",
    "print(\"I use \\\"girl\\\" to guys %.1f times every 10000 words\" % (dicts[2][\"girl\"]/words_sent[2]*10000))\n",
    "\n",
    "print(\"\\nGirls use \\\"she\\\" %.1f times every 10000 words\" % (dicts[1][\"she\"]/words_sent[1]*10000))\n",
    "print(\"Guys use \\\"she\\\" %.1f times every 10000 words\" % (dicts[3][\"she\"]/words_sent[3]*10000))\n",
    "print(\"I use \\\"she\\\" to girls %.1f times every 10000 words\" % (dicts[0][\"she\"]/words_sent[0]*10000))\n",
    "print(\"I use \\\"she\\\" to guys %.1f times every 10000 words\" % (dicts[2][\"she\"]/words_sent[2]*10000))\n",
    "\n",
    "print(\"\\nGirls use \\\"boy\\\" %.1f times every 10000 words\" % (dicts[1][\"boy\"]/words_sent[1]*10000))\n",
    "print(\"Guys use \\\"boy\\\" %.1f times every 10000 words\" % (dicts[3][\"boy\"]/words_sent[3]*10000))\n",
    "print(\"I use \\\"boy\\\" to girls %.1f times every 10000 words\" % (dicts[0][\"boy\"]/words_sent[0]*10000))\n",
    "print(\"I use \\\"boy\\\" to guys %.1f times every 10000 words\" % (dicts[2][\"boy\"]/words_sent[2]*10000))\n",
    "\n",
    "print(\"\\nGirls use \\\"he\\\" %.1f times every 10000 words\" % (dicts[1][\"he\"]/words_sent[1]*10000))\n",
    "print(\"Guys use \\\"he\\\" %.1f times every 10000 words\" % (dicts[3][\"he\"]/words_sent[3]*10000))\n",
    "print(\"I use \\\"he\\\" to girls %.1f times every 10000 words\" % (dicts[0][\"he\"]/words_sent[0]*10000))\n",
    "print(\"I use \\\"he\\\" to guys %.1f times every 10000 words\" % (dicts[2][\"he\"]/words_sent[2]*10000))"
   ]
  },
  {
   "cell_type": "code",
   "execution_count": 16,
   "metadata": {},
   "outputs": [
    {
     "name": "stdout",
     "output_type": "stream",
     "text": [
      "\n",
      "Girls use \"math\" 1.4 times every 10000 words\n",
      "Guys use \"math\" 7.8 times every 10000 words\n",
      "I use \"math\" to girls 8.8 times every 10000 words\n",
      "I use \"math\" to guys 2.7 times every 10000 words\n",
      "\n",
      "Girls use \"cs\" 4.3 times every 10000 words\n",
      "Guys use \"cs\" 4.2 times every 10000 words\n",
      "I use \"cs\" to girls 4.7 times every 10000 words\n",
      "I use \"cs\" to guys 10.3 times every 10000 words\n",
      "\n",
      "Girls use \"mom\" 4.3 times every 10000 words\n",
      "Guys use \"mom\" 1.0 times every 10000 words\n",
      "I use \"mom\" to girls 1.2 times every 10000 words\n",
      "I use \"mom\" to guys 3.4 times every 10000 words\n",
      "\n",
      "Girls use \"sad\" 2.8 times every 10000 words\n",
      "Guys use \"sad\" 7.8 times every 10000 words\n",
      "I use \"sad\" to girls 8.8 times every 10000 words\n",
      "I use \"sad\" to guys 6.2 times every 10000 words\n",
      "\n",
      "Girls use \"life\" 8.5 times every 10000 words\n",
      "Guys use \"life\" 3.6 times every 10000 words\n",
      "I use \"life\" to girls 4.1 times every 10000 words\n",
      "I use \"life\" to guys 4.1 times every 10000 words\n"
     ]
    }
   ],
   "source": [
    "# ---- Topics\n",
    "print(\"\\nGirls use \\\"math\\\" %.1f times every 10000 words\" % (dicts[1][\"math\"]/words_sent[1]*10000))\n",
    "print(\"Guys use \\\"math\\\" %.1f times every 10000 words\" % (dicts[3][\"math\"]/words_sent[3]*10000))\n",
    "print(\"I use \\\"math\\\" to girls %.1f times every 10000 words\" % (dicts[0][\"math\"]/words_sent[0]*10000))\n",
    "print(\"I use \\\"math\\\" to guys %.1f times every 10000 words\" % (dicts[2][\"math\"]/words_sent[2]*10000))\n",
    "\n",
    "print(\"\\nGirls use \\\"cs\\\" %.1f times every 10000 words\" % (dicts[1][\"cs\"]/words_sent[1]*10000))\n",
    "print(\"Guys use \\\"cs\\\" %.1f times every 10000 words\" % (dicts[3][\"cs\"]/words_sent[3]*10000))\n",
    "print(\"I use \\\"cs\\\" to girls %.1f times every 10000 words\" % (dicts[0][\"cs\"]/words_sent[0]*10000))\n",
    "print(\"I use \\\"cs\\\" to guys %.1f times every 10000 words\" % (dicts[2][\"cs\"]/words_sent[2]*10000))\n",
    "\n",
    "print(\"\\nGirls use \\\"mom\\\" %.1f times every 10000 words\" % (dicts[1][\"mom\"]/words_sent[1]*10000))\n",
    "print(\"Guys use \\\"mom\\\" %.1f times every 10000 words\" % (dicts[3][\"mom\"]/words_sent[3]*10000))\n",
    "print(\"I use \\\"mom\\\" to girls %.1f times every 10000 words\" % (dicts[0][\"mom\"]/words_sent[0]*10000))\n",
    "print(\"I use \\\"mom\\\" to guys %.1f times every 10000 words\" % (dicts[2][\"mom\"]/words_sent[2]*10000))\n",
    "\n",
    "print(\"\\nGirls use \\\"sad\\\" %.1f times every 10000 words\" % (dicts[1][\"sad\"]/words_sent[1]*10000))\n",
    "print(\"Guys use \\\"sad\\\" %.1f times every 10000 words\" % (dicts[3][\"sad\"]/words_sent[3]*10000))\n",
    "print(\"I use \\\"sad\\\" to girls %.1f times every 10000 words\" % (dicts[0][\"sad\"]/words_sent[0]*10000))\n",
    "print(\"I use \\\"sad\\\" to guys %.1f times every 10000 words\" % (dicts[2][\"sad\"]/words_sent[2]*10000))\n",
    "\n",
    "print(\"\\nGirls use \\\"life\\\" %.1f times every 10000 words\" % (dicts[1][\"life\"]/words_sent[1]*10000))\n",
    "print(\"Guys use \\\"life\\\" %.1f times every 10000 words\" % (dicts[3][\"life\"]/words_sent[3]*10000))\n",
    "print(\"I use \\\"life\\\" to girls %.1f times every 10000 words\" % (dicts[0][\"life\"]/words_sent[0]*10000))\n",
    "print(\"I use \\\"life\\\" to guys %.1f times every 10000 words\" % (dicts[2][\"life\"]/words_sent[2]*10000))"
   ]
  },
  {
   "cell_type": "code",
   "execution_count": 17,
   "metadata": {},
   "outputs": [
    {
     "name": "stdout",
     "output_type": "stream",
     "text": [
      "\n",
      "Girls use \"fuck\" 0 times every 10000 words\n",
      "Guys use \"fuck\" 15.0 times every 10000 words\n",
      "I use \"fuck\" to girls 0 times every 10000 words\n",
      "I use \"fuck\" to guys 2.1 times every 10000 words\n",
      "\n",
      "Girls use \"damn\" 0.7 times every 10000 words\n",
      "Guys use \"damn\" 4.7 times every 10000 words\n",
      "I use \"damn\" to girls 5.3 times every 10000 words\n",
      "I use \"damn\" to guys 10.9 times every 10000 words\n",
      "\n",
      "Girls use \"shit\" 0 times every 10000 words\n",
      "Guys use \"shit\" 20.8 times every 10000 words\n",
      "I use \"shit\" to girls 23.5 times every 10000 words\n",
      "I use \"shit\" to guys 4.8 times every 10000 words\n",
      "\n",
      "Girls use \"crap\" 0.7 times every 10000 words\n",
      "Guys use \"crap\" 0.5 times every 10000 words\n",
      "I use \"crap\" to girls 0.6 times every 10000 words\n",
      "I use \"crap\" to guys 0.7 times every 10000 words\n"
     ]
    }
   ],
   "source": [
    "# ---- Swears\n",
    "print(\"\\nGirls use \\\"fuck\\\" 0 times every 10000 words\")\n",
    "print(\"Guys use \\\"fuck\\\" %.1f times every 10000 words\" % (dicts[3][\"fuck\"]/words_sent[3]*10000))\n",
    "print(\"I use \\\"fuck\\\" to girls 0 times every 10000 words\")\n",
    "print(\"I use \\\"fuck\\\" to guys %.1f times every 10000 words\" % (dicts[2][\"fuck\"]/words_sent[2]*10000))\n",
    "\n",
    "print(\"\\nGirls use \\\"damn\\\" %.1f times every 10000 words\" % (dicts[1][\"damn\"]/words_sent[1]*10000))\n",
    "print(\"Guys use \\\"damn\\\" %.1f times every 10000 words\" % (dicts[3][\"damn\"]/words_sent[3]*10000))\n",
    "print(\"I use \\\"damn\\\" to girls %.1f times every 10000 words\" % (dicts[0][\"damn\"]/words_sent[0]*10000))\n",
    "print(\"I use \\\"damn\\\" to guys %.1f times every 10000 words\" % (dicts[2][\"damn\"]/words_sent[2]*10000))\n",
    "\n",
    "print(\"\\nGirls use \\\"shit\\\" 0 times every 10000 words\")\n",
    "print(\"Guys use \\\"shit\\\" %.1f times every 10000 words\" % (dicts[3][\"shit\"]/words_sent[3]*10000))\n",
    "print(\"I use \\\"shit\\\" to girls %.1f times every 10000 words\" % (dicts[0][\"shit\"]/words_sent[0]*10000))\n",
    "print(\"I use \\\"shit\\\" to guys %.1f times every 10000 words\" % (dicts[2][\"shit\"]/words_sent[2]*10000))\n",
    "\n",
    "print(\"\\nGirls use \\\"crap\\\" %.1f times every 10000 words\" % (dicts[1][\"crap\"]/words_sent[1]*10000))\n",
    "print(\"Guys use \\\"crap\\\" %.1f times every 10000 words\" % (dicts[3][\"crap\"]/words_sent[3]*10000))\n",
    "print(\"I use \\\"crap\\\" to girls %.1f times every 10000 words\" % (dicts[0][\"crap\"]/words_sent[0]*10000))\n",
    "print(\"I use \\\"crap\\\" to guys %.1f times every 10000 words\" % (dicts[2][\"crap\"]/words_sent[2]*10000))"
   ]
  },
  {
   "cell_type": "code",
   "execution_count": 18,
   "metadata": {},
   "outputs": [
    {
     "name": "stdout",
     "output_type": "stream",
     "text": [
      "Most common words for guys: i, to, the, and, a, is, you, like, u, it, in, of, at, so, that, for, im, but, ok, be, \n",
      "Most common words for girls: i, to, u, the, it, like, and, a, so, is, but, my, im, lol, have, that, its, do, in, of, \n",
      "Most common words I use to guys: i, to, u, the, a, im, it, like, you, that, and, is, just, lol, in, so, lmao, but, for, of, \n",
      "Most common words I use to girls: i, to, the, and, a, is, you, like, u, it, in, of, at, so, that, im, for, but, ok, be, \n"
     ]
    }
   ],
   "source": [
    "# ---- Most common words\n",
    "sdicts = []\n",
    "mfreq = []\n",
    "for d in dicts:\n",
    "    sdicts.append(sorted(d.items(), key=lambda item: item[1]))\n",
    "\n",
    "for freq in sdicts:\n",
    "    out = \"\"\n",
    "    for i in range(-20, 0):\n",
    "        out = freq[i][0] + \", \" + out\n",
    "    mfreq.append(out)\n",
    "    \n",
    "print(\"Most common words for guys: \" + mfreq[3])\n",
    "print(\"Most common words for girls: \" + mfreq[1])\n",
    "print(\"Most common words I use to guys: \" + mfreq[2])\n",
    "print(\"Most common words I use to girls: \" + mfreq[0])"
   ]
  },
  {
   "cell_type": "code",
   "execution_count": null,
   "metadata": {},
   "outputs": [],
   "source": []
  }
 ],
 "metadata": {
  "kernelspec": {
   "display_name": "Python 3",
   "language": "python",
   "name": "python3"
  },
  "language_info": {
   "codemirror_mode": {
    "name": "ipython",
    "version": 3
   },
   "file_extension": ".py",
   "mimetype": "text/x-python",
   "name": "python",
   "nbconvert_exporter": "python",
   "pygments_lexer": "ipython3",
   "version": "3.7.3"
  }
 },
 "nbformat": 4,
 "nbformat_minor": 2
}
